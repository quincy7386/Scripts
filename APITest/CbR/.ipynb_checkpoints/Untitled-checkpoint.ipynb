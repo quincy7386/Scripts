{
 "cells": [
  {
   "cell_type": "code",
   "execution_count": 31,
   "metadata": {},
   "outputs": [
    {
     "name": "stdout",
     "output_type": "stream",
     "text": [
      "sqm.telemetry.microsoft.com\n"
     ]
    }
   ],
   "source": [
    "from cbapi.response import CbResponseAPI, Process, Binary, Sensor\n",
    "#\n",
    "# Create our CbAPI object\n",
    "#\n",
    "c = CbResponseAPI()\n",
    "\n",
    "query = c.select(Process).where('netconn_count:[1 TO *] domain:*').first()\n",
    "netconn_obj = query.netconns\n",
    "for x in netconn_obj:\n",
    "    print(x.domain)"
   ]
  },
  {
   "cell_type": "code",
   "execution_count": 34,
   "metadata": {},
   "outputs": [
    {
     "name": "stdout",
     "output_type": "stream",
     "text": [
      "sqm.telemetry.microsoft.com\n",
      "ocsp.startssl.com\n",
      "ctldl.windowsupdate.com\n",
      "sqm.telemetry.microsoft.com\n",
      "ctldl.windowsupdate.com\n",
      "time.windows.com\n",
      "ctldl.windowsupdate.com\n",
      "time.windows.com\n",
      "ctldl.windowsupdate.com\n",
      "ocsp.digicert.com\n",
      "www.intel.com\n",
      "www.intel.com\n",
      "ocsp.starfieldtech.com\n",
      "www.intel.com\n",
      "www.intel.com\n",
      "crl.polcert.pl\n",
      "ocsp.godaddy.com\n",
      "sqm.telemetry.microsoft.com\n",
      "ctldl.windowsupdate.com\n",
      "crl.globalsign.net\n",
      "bit9server.bit9se.com\n",
      "tools.google.com\n",
      "javadl-esd-secure.oracle.com\n",
      "rps-svcs.sun.com\n",
      "javadl-esd-secure.oracle.com\n",
      "g2.symcb.com\n",
      "bit9server.bit9se.com\n",
      "time.windows.com\n",
      "tools.google.com\n",
      "tools.google.com\n",
      "clients2.google.com\n",
      "dev-prod05.conferdeploy.net\n",
      "tools.google.com\n",
      "r17---sn-o097znel.gvt1.com\n",
      "tools.google.com\n",
      "tools.google.com\n",
      "bit9server.bit9se.com\n",
      "bit9server.bit9se.com\n",
      "\n",
      "clients2.google.com\n",
      "clients2.google.com\n",
      "tools.google.com\n",
      "tools.google.com\n",
      "tools.google.com\n",
      "r17---sn-o097znel.gvt1.com\n",
      "dev-prod05.conferdeploy.net\n",
      "ocsp.digicert.com\n",
      "www.intel.com\n",
      "www.intel.com\n",
      "ocsp.starfieldtech.com\n",
      "services.bit9.com\n",
      "sqm.telemetry.microsoft.com\n",
      "dev-prod05.conferdeploy.net\n",
      "ocsp.digicert.com\n",
      "certificates.godaddy.com\n",
      "s2.symcb.com\n",
      "sf.symcb.com\n",
      "crl.microsoft.com\n",
      "ocsp.godaddy.com\n",
      "\n",
      "\n",
      "bit9server.bit9se.com\n",
      "crl.microsoft.com\n",
      "www.download.windowsupdate.com\n",
      "sqm.telemetry.microsoft.com\n",
      "sv.symcb.com\n",
      "ocsp.digicert.com\n",
      "tools.google.com\n",
      "tools.google.com\n",
      "redirector.gvt1.com\n",
      "r1---sn-n4v7sn76.gvt1.com\n",
      "dev-prod05.conferdeploy.net\n",
      "dev-prod05.conferdeploy.net\n",
      "dev-prod05.conferdeploy.net\n",
      "clients2.google.com\n",
      "crl.globalsign.net\n",
      "crl.microsoft.com\n",
      "\n",
      "certificates.godaddy.com\n",
      "sf.symcd.com\n",
      "sqm.telemetry.microsoft.com\n",
      "tools.google.com\n",
      "tools.google.com\n"
     ]
    }
   ],
   "source": [
    "from cbapi.response import CbResponseAPI, Process, Binary, Sensor\n",
    "#\n",
    "# Create our CbAPI object\n",
    "#\n",
    "c = CbResponseAPI()\n",
    "\n",
    "for query in c.select(Process).where('netconn_count:[1 TO *] domain:* start:[2017-09-20T00:00:00 TO *]'):\n",
    "    netconn_obj = query.netconns\n",
    "    for x in netconn_obj:\n",
    "        print(x.domain)"
   ]
  },
  {
   "cell_type": "code",
   "execution_count": 46,
   "metadata": {},
   "outputs": [
    {
     "data": {
      "text/plain": [
       "{'': 4,\n",
       " 'bit9server.bit9se.com': 5,\n",
       " 'certificates.godaddy.com': 2,\n",
       " 'clients2.google.com': 4,\n",
       " 'crl.globalsign.net': 2,\n",
       " 'crl.microsoft.com': 3,\n",
       " 'crl.polcert.pl': 1,\n",
       " 'ctldl.windowsupdate.com': 5,\n",
       " 'dev-prod05.conferdeploy.net': 6,\n",
       " 'g2.symcb.com': 1,\n",
       " 'javadl-esd-secure.oracle.com': 2,\n",
       " 'ocsp.digicert.com': 4,\n",
       " 'ocsp.godaddy.com': 2,\n",
       " 'ocsp.starfieldtech.com': 2,\n",
       " 'ocsp.startssl.com': 1,\n",
       " 'r1---sn-n4v7sn76.gvt1.com': 1,\n",
       " 'r17---sn-o097znel.gvt1.com': 2,\n",
       " 'redirector.gvt1.com': 1,\n",
       " 'rps-svcs.sun.com': 1,\n",
       " 's2.symcb.com': 1,\n",
       " 'services.bit9.com': 1,\n",
       " 'sf.symcb.com': 1,\n",
       " 'sf.symcd.com': 1,\n",
       " 'sqm.telemetry.microsoft.com': 6,\n",
       " 'sv.symcb.com': 1,\n",
       " 'time.windows.com': 3,\n",
       " 'tools.google.com': 13,\n",
       " 'www.download.windowsupdate.com': 1,\n",
       " 'www.intel.com': 6}"
      ]
     },
     "execution_count": 46,
     "metadata": {},
     "output_type": "execute_result"
    }
   ],
   "source": [
    "from cbapi.response import CbResponseAPI, Process, Binary, Sensor\n",
    "from collections import Counter\n",
    "#\n",
    "# Create our CbAPI object\n",
    "#\n",
    "c = CbResponseAPI()\n",
    "domains = list()\n",
    "for query in c.select(Process).where('netconn_count:[1 TO *] domain:* start:[2017-09-20T00:00:00 TO *]'):\n",
    "    netconn_obj = query.netconns\n",
    "    for item in netconn_obj:\n",
    "        domains.append(item.domain)\n",
    "dict((x,domains.count(x)) for x in domains)\n"
   ]
  },
  {
   "cell_type": "code",
   "execution_count": 54,
   "metadata": {},
   "outputs": [
    {
     "data": {
      "text/plain": [
       "tools.google.com               13\n",
       "dev-prod05.conferdeploy.net     6\n",
       "sqm.telemetry.microsoft.com     6\n",
       "www.intel.com                   6\n",
       "bit9server.bit9se.com           5\n",
       "ctldl.windowsupdate.com         5\n",
       "ocsp.digicert.com               4\n",
       "                                4\n",
       "clients2.google.com             4\n",
       "crl.microsoft.com               3\n",
       "dtype: int64"
      ]
     },
     "execution_count": 54,
     "metadata": {},
     "output_type": "execute_result"
    }
   ],
   "source": [
    "from cbapi.response import CbResponseAPI, Process, Binary, Sensor\n",
    "import pandas as pd\n",
    "import numpy as np\n",
    "#\n",
    "# Create our CbAPI object\n",
    "#\n",
    "c = CbResponseAPI()\n",
    "domains = list()\n",
    "for query in c.select(Process).where('netconn_count:[1 TO *] domain:* start:[2017-09-20T00:00:00 TO *]'):\n",
    "    netconn_obj = query.netconns\n",
    "    for item in netconn_obj:\n",
    "        domains.append(item.domain)\n",
    "s = pd.Series(domains)\n",
    "\n",
    "s.value_counts()[:10]\n"
   ]
  },
  {
   "cell_type": "code",
   "execution_count": null,
   "metadata": {
    "collapsed": true
   },
   "outputs": [],
   "source": []
  }
 ],
 "metadata": {
  "kernelspec": {
   "display_name": "Python 3",
   "language": "python",
   "name": "python3"
  },
  "language_info": {
   "codemirror_mode": {
    "name": "ipython",
    "version": 3
   },
   "file_extension": ".py",
   "mimetype": "text/x-python",
   "name": "python",
   "nbconvert_exporter": "python",
   "pygments_lexer": "ipython3",
   "version": "3.6.2"
  }
 },
 "nbformat": 4,
 "nbformat_minor": 2
}
